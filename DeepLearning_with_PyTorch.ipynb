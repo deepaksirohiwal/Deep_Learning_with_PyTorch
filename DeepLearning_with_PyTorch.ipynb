{
  "nbformat": 4,
  "nbformat_minor": 0,
  "metadata": {
    "colab": {
      "provenance": [],
      "gpuType": "T4",
      "toc_visible": true,
      "authorship_tag": "ABX9TyMjLkHdOvMEdGC5wO0CeVgS",
      "include_colab_link": true
    },
    "kernelspec": {
      "name": "python3",
      "display_name": "Python 3"
    },
    "language_info": {
      "name": "python"
    },
    "accelerator": "GPU"
  },
  "cells": [
    {
      "cell_type": "markdown",
      "metadata": {
        "id": "view-in-github",
        "colab_type": "text"
      },
      "source": [
        "<a href=\"https://colab.research.google.com/github/deepaksirohiwal/Deep_Learning_with_PyTorch/blob/main/DeepLearning_with_PyTorch.ipynb\" target=\"_parent\"><img src=\"https://colab.research.google.com/assets/colab-badge.svg\" alt=\"Open In Colab\"/></a>"
      ]
    },
    {
      "cell_type": "code",
      "execution_count": 1,
      "metadata": {
        "id": "pa_Ge-Fkq6BK"
      },
      "outputs": [],
      "source": [
        "#imports\n",
        "import torch\n",
        "import torch.nn as nn\n",
        "import torch.nn.functional as F\n",
        "\n",
        "from torch.utils.data import Dataset\n",
        "from torch.utils.data import DataLoader\n",
        "from torchvision import datasets\n",
        "from torchvision.transforms import ToTensor, Lambda\n",
        "\n",
        "import matplotlib.pyplot as plt"
      ]
    },
    {
      "cell_type": "code",
      "source": [
        "device = (\n",
        "    \"cuda\"\n",
        "    if torch.cuda.is_available()\n",
        "    else \"mps\"\n",
        "    if torch.backends.mps.is_available()\n",
        "    else \"cpu\"\n",
        ")\n",
        "print(f\"Using {device} device\")"
      ],
      "metadata": {
        "colab": {
          "base_uri": "https://localhost:8080/"
        },
        "id": "rL-0DCgirTl0",
        "outputId": "7d5ea5d0-d9e2-451e-8ec3-4108e09e6b6e"
      },
      "execution_count": 2,
      "outputs": [
        {
          "output_type": "stream",
          "name": "stdout",
          "text": [
            "Using cuda device\n"
          ]
        }
      ]
    },
    {
      "cell_type": "markdown",
      "source": [
        "# Loading dataset\n",
        "Loading the Fashion-MNIST dataset from TorchVision. Fashion-MNIST is a dataset of Zalando’s article images consisting of 60,000 training examples and 10,000 test examples. Each example comprises a 28×28 grayscale image and an associated label from one of 10 classes.\n",
        "\n",
        "\n",
        "---\n",
        "\n",
        "* root: Path where the train/test data is store\n",
        "* train: Specifies training or test data\n",
        "* download=True: download the data from the internet if not available at the root\n",
        "* transform and target_transform : specify the feature and label transformation"
      ],
      "metadata": {
        "id": "LP_KRZsk539s"
      }
    },
    {
      "cell_type": "code",
      "source": [
        "training_data= datasets.FashionMNIST(\n",
        "    root=\"data\",\n",
        "    train=True,\n",
        "    download=True,\n",
        "    transform=ToTensor()\n",
        ")\n",
        "\n",
        "test_data= datasets.FashionMNIST(\n",
        "    root=\"data\",\n",
        "    train=False,\n",
        "    download=True,\n",
        "    transform=ToTensor()\n",
        ")"
      ],
      "metadata": {
        "id": "jjv5KY5qzHIC",
        "colab": {
          "base_uri": "https://localhost:8080/"
        },
        "outputId": "4f81a6af-f467-4ab4-bf52-f315bd4045c2"
      },
      "execution_count": 3,
      "outputs": [
        {
          "output_type": "stream",
          "name": "stdout",
          "text": [
            "Downloading http://fashion-mnist.s3-website.eu-central-1.amazonaws.com/train-images-idx3-ubyte.gz\n",
            "Downloading http://fashion-mnist.s3-website.eu-central-1.amazonaws.com/train-images-idx3-ubyte.gz to data/FashionMNIST/raw/train-images-idx3-ubyte.gz\n"
          ]
        },
        {
          "output_type": "stream",
          "name": "stderr",
          "text": [
            "100%|██████████| 26421880/26421880 [00:01<00:00, 17779225.45it/s]\n"
          ]
        },
        {
          "output_type": "stream",
          "name": "stdout",
          "text": [
            "Extracting data/FashionMNIST/raw/train-images-idx3-ubyte.gz to data/FashionMNIST/raw\n",
            "\n",
            "Downloading http://fashion-mnist.s3-website.eu-central-1.amazonaws.com/train-labels-idx1-ubyte.gz\n",
            "Downloading http://fashion-mnist.s3-website.eu-central-1.amazonaws.com/train-labels-idx1-ubyte.gz to data/FashionMNIST/raw/train-labels-idx1-ubyte.gz\n"
          ]
        },
        {
          "output_type": "stream",
          "name": "stderr",
          "text": [
            "100%|██████████| 29515/29515 [00:00<00:00, 297739.16it/s]\n"
          ]
        },
        {
          "output_type": "stream",
          "name": "stdout",
          "text": [
            "Extracting data/FashionMNIST/raw/train-labels-idx1-ubyte.gz to data/FashionMNIST/raw\n",
            "\n",
            "Downloading http://fashion-mnist.s3-website.eu-central-1.amazonaws.com/t10k-images-idx3-ubyte.gz\n",
            "Downloading http://fashion-mnist.s3-website.eu-central-1.amazonaws.com/t10k-images-idx3-ubyte.gz to data/FashionMNIST/raw/t10k-images-idx3-ubyte.gz\n"
          ]
        },
        {
          "output_type": "stream",
          "name": "stderr",
          "text": [
            "100%|██████████| 4422102/4422102 [00:00<00:00, 5489192.20it/s] \n"
          ]
        },
        {
          "output_type": "stream",
          "name": "stdout",
          "text": [
            "Extracting data/FashionMNIST/raw/t10k-images-idx3-ubyte.gz to data/FashionMNIST/raw\n",
            "\n",
            "Downloading http://fashion-mnist.s3-website.eu-central-1.amazonaws.com/t10k-labels-idx1-ubyte.gz\n",
            "Downloading http://fashion-mnist.s3-website.eu-central-1.amazonaws.com/t10k-labels-idx1-ubyte.gz to data/FashionMNIST/raw/t10k-labels-idx1-ubyte.gz\n"
          ]
        },
        {
          "output_type": "stream",
          "name": "stderr",
          "text": [
            "100%|██████████| 5148/5148 [00:00<00:00, 19611514.07it/s]\n"
          ]
        },
        {
          "output_type": "stream",
          "name": "stdout",
          "text": [
            "Extracting data/FashionMNIST/raw/t10k-labels-idx1-ubyte.gz to data/FashionMNIST/raw\n",
            "\n"
          ]
        }
      ]
    },
    {
      "cell_type": "code",
      "source": [
        "training_data"
      ],
      "metadata": {
        "id": "-Z4yITpk61tI",
        "colab": {
          "base_uri": "https://localhost:8080/"
        },
        "outputId": "96b848b1-6cdb-48c9-d42c-9e5716ea271f"
      },
      "execution_count": 4,
      "outputs": [
        {
          "output_type": "execute_result",
          "data": {
            "text/plain": [
              "Dataset FashionMNIST\n",
              "    Number of datapoints: 60000\n",
              "    Root location: data\n",
              "    Split: Train\n",
              "    StandardTransform\n",
              "Transform: ToTensor()"
            ]
          },
          "metadata": {},
          "execution_count": 4
        }
      ]
    },
    {
      "cell_type": "code",
      "source": [
        "labels_map = {\n",
        "    0: \"T-Shirt\",\n",
        "    1: \"Trouser\",\n",
        "    2: \"Pullover\",\n",
        "    3: \"Dress\",\n",
        "    4: \"Coat\",\n",
        "    5: \"Sandal\",\n",
        "    6: \"Shirt\",\n",
        "    7: \"Sneaker\",\n",
        "    8: \"Bag\",\n",
        "    9: \"Ankle Boot\",\n",
        "}\n",
        "figure = plt.figure(figsize=(8, 8))\n",
        "cols, rows = 3, 3\n",
        "for i in range(1, cols * rows + 1):\n",
        "    sample_idx = torch.randint(len(training_data), size=(1,)).item()\n",
        "    img, label = training_data[sample_idx]\n",
        "    figure.add_subplot(rows, cols, i)\n",
        "    plt.title(labels_map[label])\n",
        "    plt.axis(\"off\")\n",
        "    plt.imshow(img.squeeze(), cmap=\"gray\")\n",
        "plt.show()"
      ],
      "metadata": {
        "colab": {
          "base_uri": "https://localhost:8080/",
          "height": 675
        },
        "id": "8PmxV0Ig9VsS",
        "outputId": "bf7507ff-b3b7-49a6-ae41-8a639700d2c2"
      },
      "execution_count": 5,
      "outputs": [
        {
          "output_type": "display_data",
          "data": {
            "text/plain": [
              "<Figure size 800x800 with 9 Axes>"
            ],
            "image/png": "[encoded data removed]"
          },
          "metadata": {}
        }
      ]
    },
    {
      "cell_type": "markdown",
      "source": [
        "The Dataset retrieves our dataset’s features and labels one sample at a time. While training a model, we typically want to pass samples in “minibatches”, reshuffle the data at every epoch to reduce model overfitting, and use Python’s multiprocessing to speed up data retrieval.\n",
        "\n",
        "DataLoader is an iterable that abstracts this complexity for us in an easy API."
      ],
      "metadata": {
        "id": "HEVj4aVFIkd1"
      }
    },
    {
      "cell_type": "code",
      "source": [
        "train_dataloader= DataLoader(training_data, batch_size=64,shuffle=True)\n",
        "test_dataloader= DataLoader(test_data,batch_size=64, shuffle=True)"
      ],
      "metadata": {
        "id": "Y9JGNqi4Aepi"
      },
      "execution_count": 6,
      "outputs": []
    },
    {
      "cell_type": "code",
      "source": [
        "next(iter(train_dataloader))[0].size()"
      ],
      "metadata": {
        "colab": {
          "base_uri": "https://localhost:8080/"
        },
        "id": "732yeyzGI86i",
        "outputId": "9a1a5021-45a1-4af7-ebe9-264d8f8cff79"
      },
      "execution_count": 7,
      "outputs": [
        {
          "output_type": "execute_result",
          "data": {
            "text/plain": [
              "torch.Size([64, 1, 28, 28])"
            ]
          },
          "metadata": {},
          "execution_count": 7
        }
      ]
    },
    {
      "cell_type": "code",
      "source": [
        "train_features, train_labels= next(iter(train_dataloader))\n",
        "print(f\"Feature batch shape: {train_features.size()}\")\n",
        "print(f\"Lables batch shape: {train_labels.size()}\")\n",
        "img= train_features[0].squeeze()\n",
        "label=train_labels[0]\n",
        "plt.imshow(img,cmap='gray')\n",
        "plt.show()\n",
        "print(f\"Label: {label}\")"
      ],
      "metadata": {
        "colab": {
          "base_uri": "https://localhost:8080/",
          "height": 482
        },
        "id": "KlxjgLn7J4xj",
        "outputId": "3f309882-6ac2-4454-aba5-886cd0eed107"
      },
      "execution_count": 8,
      "outputs": [
        {
          "output_type": "stream",
          "name": "stdout",
          "text": [
            "Feature batch shape: torch.Size([64, 1, 28, 28])\n",
            "Lables batch shape: torch.Size([64])\n"
          ]
        },
        {
          "output_type": "display_data",
          "data": {
            "text/plain": [
              "<Figure size 640x480 with 1 Axes>"
            ],
            "image/png": "[encoded data removed]"
          },
          "metadata": {}
        },
        {
          "output_type": "stream",
          "name": "stdout",
          "text": [
            "Label: 3\n"
          ]
        }
      ]
    },
    {
      "cell_type": "markdown",
      "source": [
        "## Transform"
      ],
      "metadata": {
        "id": "-TG1JV8X3veY"
      }
    },
    {
      "cell_type": "markdown",
      "source": [
        "Data often arrives in forms that might not be immediately suitable for training machine learning algorithms. To prepare such data, we employ transformations that modify it into the required format. For this purpose, TorchVision datasets include two parameters: `transform` and `target_transform`. These parameters accept callable functions that encapsulate the transformation process. The torchvision.transforms module conveniently provides a range of standard transformations.\n",
        "\n",
        "For instance, in the case of FashionMNIST, the data's features are typically presented as PIL Images, while the labels are represented as integers. However, for effective training, the features need to be normalized tensors, and the labels require one-hot encoding. To perform these essential transformations, we leverage two specific transformations: ToTensor and Lambda.\n",
        "\n",
        "- **ToTensor**: This transformation converts PIL Images or similar data formats into tensors. It also scales the pixel values to a range between 0 and 1, making the data suitable for neural networks.\n",
        "\n",
        "- **Lambda**: The Lambda transformation is used to apply custom functions to the data. In this context, it facilitates the conversion of integer labels to one-hot encoded tensors, a necessary step for various classification tasks."
      ],
      "metadata": {
        "id": "V8OjF2Qn4HFU"
      }
    },
    {
      "cell_type": "code",
      "source": [
        "ds = datasets.FashionMNIST(\n",
        "    root=\"data\",\n",
        "    train=True,\n",
        "    download=True,\n",
        "    transform=ToTensor(),\n",
        "    target_transform=Lambda(lambda y: torch.zeros(10, dtype=torch.float).scatter_(0, torch.tensor(y), value=1))\n",
        ")"
      ],
      "metadata": {
        "id": "Uqm8uiehLaZp"
      },
      "execution_count": 9,
      "outputs": []
    },
    {
      "cell_type": "markdown",
      "source": [
        "**ToTensor** converts a PIL image or NumPy ndarray into a FloatTensor. and scales the image’s pixel intensity values in the range [0., 1.]\n",
        "\n",
        "**Lambda Transforms**\n",
        "\n",
        "1. **Lambda Transformation**: The `Lambda` transformation is a flexible way to apply custom transformations to the target data. It accepts a callable function and applies it to each target label.\n",
        "\n",
        "2. **lambda Function**: Inside the `Lambda` transformation, there's a lambda function that takes a label `y` as input.\n",
        "\n",
        "3. **torch.zeros()**: This creates a tensor of zeros. In this case, it creates a tensor of shape `(10,)` with all values initialized to 0. This tensor will eventually represent the one-hot encoded label.\n",
        "\n",
        "4. **scatter_()**: The `scatter_` method is a powerful PyTorch function used for in-place modification of the tensor. It allows you to scatter (set) values at specified indices along a given dimension.\n",
        "\n",
        "5. **dim**: The `dim` parameter specifies the dimension along which the scattering operation is performed. In this case, it's the first dimension (index 0).\n",
        "\n",
        "6. **index**: The `index` parameter specifies the indices where the value 1 should be placed. The `torch.tensor(y)` is a tensor that holds the original label `y`.\n",
        "\n",
        "7. **value**: The `value` parameter specifies the value to scatter. In this case, it's 1.\n",
        "\n",
        "In summary, the code creates a `target_transform` that, when applied to a label `y`, returns a one-hot encoded tensor where the element corresponding to the original label `y` is set to 1, and all other elements are set to 0. The `scatter_` method efficiently achieves this by modifying the existing zero tensor using the index provided by the original label `y`.\n",
        "\n",
        "For example, if `y` is 3, the corresponding one-hot encoded tensor will be `[0, 0, 0, 1, 0, 0, 0, 0, 0, 0]`, where the fourth element (index 3) is set to 1, representing the class label 3."
      ],
      "metadata": {
        "id": "bUe0NdIW4b17"
      }
    },
    {
      "cell_type": "markdown",
      "source": [
        "# Building Neural Network\n"
      ],
      "metadata": {
        "id": "ERIRa3R5_NtC"
      }
    },
    {
      "cell_type": "markdown",
      "source": [
        "Neural networks are constructed using building blocks known as layers or modules. These modules perform various operations on data. In PyTorch, the `torch.nn` namespace offers a comprehensive set of tools for creating neural networks. Each building block in PyTorch inherits from `nn.Module`, forming a structured foundation for constructing customized neural networks.\n",
        "\n",
        "In PyTorch, a neural network is essentially a module that encompasses multiple other modules or layers. This hierarchical arrangement simplifies the design and administration of intricate network architectures. Through this nested structure, the process of constructing and controlling complex models becomes more intuitive and manageable."
      ],
      "metadata": {
        "id": "9ms32ex8AUAc"
      }
    },
    {
      "cell_type": "code",
      "source": [
        "# class NeuralNetwork(nn.Module):\n",
        "#   def __init__(self):\n",
        "#     super().__init__()\n",
        "#     self.flatten=nn.Flatten()"
      ],
      "metadata": {
        "id": "ZeGA3qBd_Iz3"
      },
      "execution_count": 9,
      "outputs": []
    }
  ]
}