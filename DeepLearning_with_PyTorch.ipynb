{
  "nbformat": 4,
  "nbformat_minor": 0,
  "metadata": {
    "colab": {
      "provenance": [],
      "gpuType": "T4",
      "toc_visible": true,
      "authorship_tag": "ABX9TyN9wNY8jQNI4tvCqt+pbN4L",
      "include_colab_link": true
    },
    "kernelspec": {
      "name": "python3",
      "display_name": "Python 3"
    },
    "language_info": {
      "name": "python"
    },
    "accelerator": "GPU"
  },
  "cells": [
    {
      "cell_type": "markdown",
      "metadata": {
        "id": "view-in-github",
        "colab_type": "text"
      },
      "source": [
        "<a href=\"https://colab.research.google.com/github/deepaksirohiwal/Deep_Learning_with_PyTorch/blob/main/DeepLearning_with_PyTorch.ipynb\" target=\"_parent\"><img src=\"https://colab.research.google.com/assets/colab-badge.svg\" alt=\"Open In Colab\"/></a>"
      ]
    },
    {
      "cell_type": "code",
      "execution_count": 35,
      "metadata": {
        "id": "pa_Ge-Fkq6BK"
      },
      "outputs": [],
      "source": [
        "#imports\n",
        "import torch\n",
        "import torch.nn as nn\n",
        "import torch.nn.functional as F\n",
        "\n",
        "from torch.utils.data import Dataset\n",
        "from torch.utils.data import DataLoader\n",
        "from torchvision import datasets\n",
        "from torchvision.transforms import ToTensor, Lambda\n",
        "\n",
        "import matplotlib.pyplot as plt"
      ]
    },
    {
      "cell_type": "code",
      "source": [
        "device = (\n",
        "    \"cuda\"\n",
        "    if torch.cuda.is_available()\n",
        "    else \"mps\"\n",
        "    if torch.backends.mps.is_available()\n",
        "    else \"cpu\"\n",
        ")\n",
        "print(f\"Using {device} device\")"
      ],
      "metadata": {
        "colab": {
          "base_uri": "https://localhost:8080/"
        },
        "id": "rL-0DCgirTl0",
        "outputId": "2767465b-c4c9-452f-99e3-ba1b29ea419a"
      },
      "execution_count": 36,
      "outputs": [
        {
          "output_type": "stream",
          "name": "stdout",
          "text": [
            "Using cuda device\n"
          ]
        }
      ]
    },
    {
      "cell_type": "markdown",
      "source": [
        "# Loading dataset\n",
        "Loading the Fashion-MNIST dataset from TorchVision. Fashion-MNIST is a dataset of Zalando’s article images consisting of 60,000 training examples and 10,000 test examples. Each example comprises a 28×28 grayscale image and an associated label from one of 10 classes.\n",
        "\n",
        "\n",
        "---\n",
        "\n",
        "* root: Path where the train/test data is store\n",
        "* train: Specifies training or test data\n",
        "* download=True: download the data from the internet if not available at the root\n",
        "* transform and target_transform : specify the feature and label transformation"
      ],
      "metadata": {
        "id": "LP_KRZsk539s"
      }
    },
    {
      "cell_type": "code",
      "source": [
        "training_data= datasets.FashionMNIST(\n",
        "    root=\"data\",\n",
        "    train=True,\n",
        "    download=True,\n",
        "    transform=ToTensor()\n",
        ")\n",
        "\n",
        "test_data= datasets.FashionMNIST(\n",
        "    root=\"data\",\n",
        "    train=False,\n",
        "    download=True,\n",
        "    transform=ToTensor()\n",
        ")"
      ],
      "metadata": {
        "id": "jjv5KY5qzHIC"
      },
      "execution_count": 37,
      "outputs": []
    },
    {
      "cell_type": "code",
      "source": [
        "training_data"
      ],
      "metadata": {
        "id": "-Z4yITpk61tI",
        "colab": {
          "base_uri": "https://localhost:8080/"
        },
        "outputId": "79721af5-b3df-4fa2-db9e-3550c8e6b564"
      },
      "execution_count": 38,
      "outputs": [
        {
          "output_type": "execute_result",
          "data": {
            "text/plain": [
              "Dataset FashionMNIST\n",
              "    Number of datapoints: 60000\n",
              "    Root location: data\n",
              "    Split: Train\n",
              "    StandardTransform\n",
              "Transform: ToTensor()"
            ]
          },
          "metadata": {},
          "execution_count": 38
        }
      ]
    },
    {
      "cell_type": "code",
      "source": [
        "labels_map = {\n",
        "    0: \"T-Shirt\",\n",
        "    1: \"Trouser\",\n",
        "    2: \"Pullover\",\n",
        "    3: \"Dress\",\n",
        "    4: \"Coat\",\n",
        "    5: \"Sandal\",\n",
        "    6: \"Shirt\",\n",
        "    7: \"Sneaker\",\n",
        "    8: \"Bag\",\n",
        "    9: \"Ankle Boot\",\n",
        "}\n",
        "figure = plt.figure(figsize=(8, 8))\n",
        "cols, rows = 3, 3\n",
        "for i in range(1, cols * rows + 1):\n",
        "    sample_idx = torch.randint(len(training_data), size=(1,)).item()\n",
        "    img, label = training_data[sample_idx]\n",
        "    figure.add_subplot(rows, cols, i)\n",
        "    plt.title(labels_map[label])\n",
        "    plt.axis(\"off\")\n",
        "    plt.imshow(img.squeeze(), cmap=\"gray\")\n",
        "plt.show()"
      ],
      "metadata": {
        "colab": {
          "base_uri": "https://localhost:8080/",
          "height": 675
        },
        "id": "8PmxV0Ig9VsS",
        "outputId": "d6abb440-a0ff-4f09-e5f9-391431501a0b"
      },
      "execution_count": 39,
      "outputs": [
        {
          "output_type": "display_data",
          "data": {
            "text/plain": [
              "<Figure size 800x800 with 9 Axes>"
            ],
            "image/png": "[encoded data removed]"
          },
          "metadata": {}
        }
      ]
    },
    {
      "cell_type": "markdown",
      "source": [
        "The Dataset retrieves our dataset’s features and labels one sample at a time. While training a model, we typically want to pass samples in “minibatches”, reshuffle the data at every epoch to reduce model overfitting, and use Python’s multiprocessing to speed up data retrieval.\n",
        "\n",
        "DataLoader is an iterable that abstracts this complexity for us in an easy API."
      ],
      "metadata": {
        "id": "HEVj4aVFIkd1"
      }
    },
    {
      "cell_type": "code",
      "source": [
        "train_dataloader= DataLoader(training_data, batch_size=64,shuffle=True)\n",
        "test_dataloader= DataLoader(test_data,batch_size=64, shuffle=True)"
      ],
      "metadata": {
        "id": "Y9JGNqi4Aepi"
      },
      "execution_count": 40,
      "outputs": []
    },
    {
      "cell_type": "code",
      "source": [
        "next(iter(train_dataloader))[0].size()"
      ],
      "metadata": {
        "colab": {
          "base_uri": "https://localhost:8080/"
        },
        "id": "732yeyzGI86i",
        "outputId": "950e878a-0b2e-4714-ab52-5de94f644c3a"
      },
      "execution_count": 41,
      "outputs": [
        {
          "output_type": "execute_result",
          "data": {
            "text/plain": [
              "torch.Size([64, 1, 28, 28])"
            ]
          },
          "metadata": {},
          "execution_count": 41
        }
      ]
    },
    {
      "cell_type": "code",
      "source": [
        "train_features, train_labels= next(iter(train_dataloader))\n",
        "print(f\"Feature batch shape: {train_features.size()}\")\n",
        "print(f\"Lables batch shape: {train_labels.size()}\")\n",
        "img= train_features[0].squeeze()\n",
        "label=train_labels[0]\n",
        "plt.imshow(img,cmap='gray')\n",
        "plt.show()\n",
        "print(f\"Label: {label}\")"
      ],
      "metadata": {
        "colab": {
          "base_uri": "https://localhost:8080/",
          "height": 482
        },
        "id": "KlxjgLn7J4xj",
        "outputId": "d510e351-2a6e-43b7-8c84-acbc84171619"
      },
      "execution_count": 42,
      "outputs": [
        {
          "output_type": "stream",
          "name": "stdout",
          "text": [
            "Feature batch shape: torch.Size([64, 1, 28, 28])\n",
            "Lables batch shape: torch.Size([64])\n"
          ]
        },
        {
          "output_type": "display_data",
          "data": {
            "text/plain": [
              "<Figure size 640x480 with 1 Axes>"
            ],
            "image/png": "[encoded data removed]"
          },
          "metadata": {}
        },
        {
          "output_type": "stream",
          "name": "stdout",
          "text": [
            "Label: 1\n"
          ]
        }
      ]
    },
    {
      "cell_type": "markdown",
      "source": [
        "## Transform"
      ],
      "metadata": {
        "id": "-TG1JV8X3veY"
      }
    },
    {
      "cell_type": "markdown",
      "source": [
        "Data often arrives in forms that might not be immediately suitable for training machine learning algorithms. To prepare such data, we employ transformations that modify it into the required format. For this purpose, TorchVision datasets include two parameters: `transform` and `target_transform`. These parameters accept callable functions that encapsulate the transformation process. The torchvision.transforms module conveniently provides a range of standard transformations.\n",
        "\n",
        "For instance, in the case of FashionMNIST, the data's features are typically presented as PIL Images, while the labels are represented as integers. However, for effective training, the features need to be normalized tensors, and the labels require one-hot encoding. To perform these essential transformations, we leverage two specific transformations: ToTensor and Lambda.\n",
        "\n",
        "- **ToTensor**: This transformation converts PIL Images or similar data formats into tensors. It also scales the pixel values to a range between 0 and 1, making the data suitable for neural networks.\n",
        "\n",
        "- **Lambda**: The Lambda transformation is used to apply custom functions to the data. In this context, it facilitates the conversion of integer labels to one-hot encoded tensors, a necessary step for various classification tasks."
      ],
      "metadata": {
        "id": "V8OjF2Qn4HFU"
      }
    },
    {
      "cell_type": "code",
      "source": [
        "ds = datasets.FashionMNIST(\n",
        "    root=\"data\",\n",
        "    train=True,\n",
        "    download=True,\n",
        "    transform=ToTensor(),\n",
        "    target_transform=Lambda(lambda y: torch.zeros(10, dtype=torch.float).scatter_(0, torch.tensor(y), value=1))\n",
        ")"
      ],
      "metadata": {
        "id": "Uqm8uiehLaZp"
      },
      "execution_count": 43,
      "outputs": []
    },
    {
      "cell_type": "markdown",
      "source": [
        "**ToTensor** converts a PIL image or NumPy ndarray into a FloatTensor. and scales the image’s pixel intensity values in the range [0., 1.]\n",
        "\n",
        "**Lambda Transforms**\n",
        "\n",
        "1. **Lambda Transformation**: The `Lambda` transformation is a flexible way to apply custom transformations to the target data. It accepts a callable function and applies it to each target label.\n",
        "\n",
        "2. **lambda Function**: Inside the `Lambda` transformation, there's a lambda function that takes a label `y` as input.\n",
        "\n",
        "3. **torch.zeros()**: This creates a tensor of zeros. In this case, it creates a tensor of shape `(10,)` with all values initialized to 0. This tensor will eventually represent the one-hot encoded label.\n",
        "\n",
        "4. **scatter_()**: The `scatter_` method is a powerful PyTorch function used for in-place modification of the tensor. It allows you to scatter (set) values at specified indices along a given dimension.\n",
        "\n",
        "5. **dim**: The `dim` parameter specifies the dimension along which the scattering operation is performed. In this case, it's the first dimension (index 0).\n",
        "\n",
        "6. **index**: The `index` parameter specifies the indices where the value 1 should be placed. The `torch.tensor(y)` is a tensor that holds the original label `y`.\n",
        "\n",
        "7. **value**: The `value` parameter specifies the value to scatter. In this case, it's 1.\n",
        "\n",
        "In summary, the code creates a `target_transform` that, when applied to a label `y`, returns a one-hot encoded tensor where the element corresponding to the original label `y` is set to 1, and all other elements are set to 0. The `scatter_` method efficiently achieves this by modifying the existing zero tensor using the index provided by the original label `y`.\n",
        "\n",
        "For example, if `y` is 3, the corresponding one-hot encoded tensor will be `[0, 0, 0, 1, 0, 0, 0, 0, 0, 0]`, where the fourth element (index 3) is set to 1, representing the class label 3."
      ],
      "metadata": {
        "id": "bUe0NdIW4b17"
      }
    },
    {
      "cell_type": "markdown",
      "source": [
        "# Building Neural Network\n"
      ],
      "metadata": {
        "id": "ERIRa3R5_NtC"
      }
    },
    {
      "cell_type": "markdown",
      "source": [
        "Neural networks are constructed using building blocks known as layers or modules. These modules perform various operations on data. In PyTorch, the `torch.nn` namespace offers a comprehensive set of tools for creating neural networks. Each building block in PyTorch inherits from `nn.Module`, forming a structured foundation for constructing customized neural networks.\n",
        "\n",
        "In PyTorch, a neural network is essentially a module that encompasses multiple other modules or layers. This hierarchical arrangement simplifies the design and administration of intricate network architectures. Through this nested structure, the process of constructing and controlling complex models becomes more intuitive and manageable."
      ],
      "metadata": {
        "id": "9ms32ex8AUAc"
      }
    },
    {
      "cell_type": "code",
      "source": [
        "class NeuralNetwork(nn.Module):\n",
        "  def __init__(self):\n",
        "    super().__init__()\n",
        "    self.flatten=nn.Flatten() #convert 28x28 image into a contiguous array of 784 pixel values\n",
        "    self.linear_relu_stack= nn.Sequential(\n",
        "        nn.Linear(28*28,512),\n",
        "        nn.ReLU(),\n",
        "        nn.Linear(512,512),\n",
        "        nn.ReLU(),\n",
        "        nn.Linear(512,10)\n",
        "    )\n",
        "  def forward(self,x):\n",
        "    x=self.flatten(x)\n",
        "    logits=self.linear_relu_stack(x)\n",
        "    return logits"
      ],
      "metadata": {
        "id": "ZeGA3qBd_Iz3"
      },
      "execution_count": 44,
      "outputs": []
    },
    {
      "cell_type": "code",
      "source": [
        "model = NeuralNetwork().to(device)\n",
        "print(model)"
      ],
      "metadata": {
        "colab": {
          "base_uri": "https://localhost:8080/"
        },
        "id": "Ja3pamCjRIak",
        "outputId": "a5817b83-7f31-4b5c-d52a-00ab019ea75c"
      },
      "execution_count": 45,
      "outputs": [
        {
          "output_type": "stream",
          "name": "stdout",
          "text": [
            "NeuralNetwork(\n",
            "  (flatten): Flatten(start_dim=1, end_dim=-1)\n",
            "  (linear_relu_stack): Sequential(\n",
            "    (0): Linear(in_features=784, out_features=512, bias=True)\n",
            "    (1): ReLU()\n",
            "    (2): Linear(in_features=512, out_features=512, bias=True)\n",
            "    (3): ReLU()\n",
            "    (4): Linear(in_features=512, out_features=10, bias=True)\n",
            "  )\n",
            ")\n"
          ]
        }
      ]
    },
    {
      "cell_type": "markdown",
      "source": [
        "## Autograd\n",
        "When training neural networks, the most frequently used algorithm is back propagation. In this algorithm, parameters (model weights) are adjusted according to the gradient of the loss function with respect to the given parameter.\n",
        "To compute those gradients, PyTorch has a built-in differentiation engine called `torch.autograd`. It supports automatic computation of gradient for any computational graph.\n",
        "\n",
        "To optimize weights of parameters in the neural network, we need to compute the derivatives of our loss function with respect to parameters, namely, we need derivative of loss w.r.t `w` and `b`  under some fixed values of `x` and `y`. To compute those derivatives, we call `loss.backward()`, and then retrieve the values from `w.grad` and `b.grad`\n",
        "\n",
        "By default, all tensors with requires_grad=True are tracking their computational history and support gradient computation. However, there are some cases when we do not need to do that, for example, when we have trained the model and just want to apply it to some input data, i.e. we only want to do forward computations through the network. We can stop tracking computations by surrounding our computation code with torch.no_grad() block\n",
        "\n",
        "```\n",
        "z = torch.matmul(x, w)+b\n",
        "print(z.requires_grad)\n",
        "\n",
        "with torch.no_grad():\n",
        "    z = torch.matmul(x, w)+b\n",
        "print(z.requires_grad)\n",
        "```"
      ],
      "metadata": {
        "id": "772Z4gsgXmhp"
      }
    },
    {
      "cell_type": "markdown",
      "source": [
        "## Hyperparameter\n",
        "Hyperparameters are tunable settings that provide control over the optimization process of a model. By adjusting these parameters, you can influence the way the model is trained and how quickly it converges to a solution. Effective hyperparameter choices are crucial for achieving optimal model performance.\n",
        "\n",
        "The following key hyperparameters are defined for the training process:\n",
        "\n",
        "1. **Number of Epochs**: This determines how many times the entire dataset is iterated through during training. Each epoch allows the model to learn from the entire dataset, potentially improving performance over time.\n",
        "\n",
        "2. **Batch Size**: The batch size specifies the number of data samples that are processed together in each iteration. It affects the speed and memory efficiency of training. Smaller batch sizes allow more frequent parameter updates, while larger batch sizes can utilize parallelism for faster training.\n",
        "\n",
        "3. **Learning Rate**: The learning rate controls the step size at which the model's parameters are adjusted during each iteration. A smaller learning rate leads to more cautious updates, potentially yielding more accurate convergence. Conversely, a larger learning rate can speed up training but risks overshooting optimal parameter values.\n",
        "\n",
        "Optimal hyperparameter settings can lead to faster convergence, better generalization, and improved model performance. Finding the right values often involves experimentation and tuning to achieve the best results for a specific task and dataset."
      ],
      "metadata": {
        "id": "ECj88eLl2YcJ"
      }
    },
    {
      "cell_type": "code",
      "source": [
        "learning_rate = 1e-3\n",
        "batch_size = 64\n",
        "epochs = 5"
      ],
      "metadata": {
        "id": "_p3pHqzl1nF7"
      },
      "execution_count": 46,
      "outputs": []
    },
    {
      "cell_type": "markdown",
      "source": [
        "## Optimization loop\n",
        "* **Training loop**- iterate over the training dataset and try to converge to optimal parameters.\n",
        "* **Validation loop**- iterate over the test dataset to check if model performance is improving."
      ],
      "metadata": {
        "id": "Yen2WzSS539u"
      }
    },
    {
      "cell_type": "markdown",
      "source": [
        "## Optimizer\n",
        "Optimization is the process of adjusting model parameters to reduce model error in each training step. Optimization algorithms define how this process is performed (in this example we use Stochastic Gradient Descent). All optimization logic is encapsulated in the optimizer object. Here, we use the SGD optimizer; additionally, there are many different optimizers available in PyTorch such as ADAM and RMSProp, that work better for different kinds of models and data.\n",
        "\n",
        "We initialize the optimizer by registering the model’s parameters that need to be trained, and passing in the learning rate hyperparameter.\n",
        "\n",
        "Inside the training loop, optimization happens in three steps:\n",
        "* `Call optimizer.zero_grad()` to reset the gradients of model parameters. Gradients by default add up; to prevent double-counting, we explicitly zero them at each iteration.\n",
        "\n",
        "* Backpropagate the prediction loss with a call to `loss.backward()`. PyTorch deposits the gradients of the loss w.r.t. each parameter.\n",
        "\n",
        "* Once we have our gradients, we call `optimizer.step()` to adjust the parameters by the gradients collected in the backward pass."
      ],
      "metadata": {
        "id": "vca0TDa17dsD"
      }
    },
    {
      "cell_type": "code",
      "source": [
        "# Loss function\n",
        "loss_fn=nn.CrossEntropyLoss()\n",
        "\n",
        "# Optimizer\n",
        "optimizer= torch.optim.SGD(model.parameters(), lr=learning_rate)\n"
      ],
      "metadata": {
        "id": "S6lfNd-L3CTI"
      },
      "execution_count": 47,
      "outputs": []
    },
    {
      "cell_type": "markdown",
      "source": [
        "## Implementation"
      ],
      "metadata": {
        "id": "G_nZiL0d8FWd"
      }
    },
    {
      "cell_type": "code",
      "source": [
        "# training loop\n",
        "def train_loop(dataloader,model,loss_fn,optimizer):\n",
        "  size=len(dataloader.dataset)\n",
        "  # putting in training mode\n",
        "  model.train()\n",
        "  for batch, (X,y) in enumerate(dataloader):\n",
        "    X= X.to(device)\n",
        "    y= y.to(device)\n",
        "\n",
        "    pred= model(X)\n",
        "    loss= loss_fn(pred,y)\n",
        "\n",
        "    #backpropagation\n",
        "    # Deposite gradient of the loss w.r.t each parameter\n",
        "    loss.backward()\n",
        "    # update the parameters\n",
        "    optimizer.step()\n",
        "    # reset the gradiet to zero as by default all the gradient adds up\n",
        "    optimizer.zero_grad()\n",
        "\n",
        "    if batch % 100 ==0:\n",
        "      loss, current=loss.item(), (batch+1)*len(X)\n",
        "      print(f\"loss: {loss:>7f} [{current:>5d}/{size:>5d}]\")"
      ],
      "metadata": {
        "id": "u_i2hLk18DRM"
      },
      "execution_count": 48,
      "outputs": []
    },
    {
      "cell_type": "code",
      "source": [
        "# test loop\n",
        "def test_loop(dataloader,model, loss_fn):\n",
        "  #setting in evaluation mode\n",
        "  model.eval()\n",
        "  size=len(dataloader.dataset)\n",
        "  num_batches= len(dataloader)\n",
        "  test_loss, correct=0,0\n",
        "\n",
        "  # no gradient is going to compute during the evaluation process as we are\n",
        "  # going to perform the forward pass only\n",
        "  with torch.no_grad():\n",
        "    for X,y in dataloader:\n",
        "      X= X.to(device)\n",
        "      y= y.to(device)\n",
        "      pred= model(X)\n",
        "      test_loss +=loss_fn(pred,y).item()\n",
        "      correct+=(pred.argmax(1) == y).type(torch.float).sum().item()\n",
        "\n",
        "\n",
        "  test_loss /= num_batches\n",
        "  correct /= size\n",
        "  print(f\"Test Error: \\n Accuracy: {(100*correct):>0.1f}%, Avg loss: {test_loss:>8f} \\n\")\n",
        "\n",
        "\n"
      ],
      "metadata": {
        "id": "qEQJanE7DMER"
      },
      "execution_count": 49,
      "outputs": []
    },
    {
      "cell_type": "code",
      "source": [
        "loss_fn = nn.CrossEntropyLoss()\n",
        "optimizer = torch.optim.SGD(model.parameters(), lr=learning_rate)\n",
        "\n",
        "epochs = 10\n",
        "for t in range(epochs):\n",
        "    print(f\"Epoch {t+1}\\n-------------------------------\")\n",
        "    train_loop(train_dataloader, model, loss_fn, optimizer)\n",
        "    test_loop(test_dataloader, model, loss_fn)\n",
        "print(\"Done!\")"
      ],
      "metadata": {
        "colab": {
          "base_uri": "https://localhost:8080/"
        },
        "id": "OVhZXUJ0E6h8",
        "outputId": "2fe9ece3-c04f-4948-ce1a-0807eed67a7a"
      },
      "execution_count": 50,
      "outputs": [
        {
          "output_type": "stream",
          "name": "stdout",
          "text": [
            "Epoch 1\n",
            "-------------------------------\n",
            "loss: 2.317701 [   64/60000]\n",
            "loss: 2.299402 [ 6464/60000]\n",
            "loss: 2.281075 [12864/60000]\n",
            "loss: 2.266307 [19264/60000]\n",
            "loss: 2.261525 [25664/60000]\n",
            "loss: 2.242537 [32064/60000]\n",
            "loss: 2.226128 [38464/60000]\n",
            "loss: 2.215008 [44864/60000]\n",
            "loss: 2.205133 [51264/60000]\n",
            "loss: 2.165433 [57664/60000]\n",
            "Test Error: \n",
            " Accuracy: 56.3%, Avg loss: 2.165702 \n",
            "\n",
            "Epoch 2\n",
            "-------------------------------\n",
            "loss: 2.139125 [   64/60000]\n",
            "loss: 2.151306 [ 6464/60000]\n",
            "loss: 2.152952 [12864/60000]\n",
            "loss: 2.084436 [19264/60000]\n",
            "loss: 2.101016 [25664/60000]\n",
            "loss: 2.058853 [32064/60000]\n",
            "loss: 2.044421 [38464/60000]\n",
            "loss: 1.922346 [44864/60000]\n",
            "loss: 1.953960 [51264/60000]\n",
            "loss: 1.910921 [57664/60000]\n",
            "Test Error: \n",
            " Accuracy: 60.8%, Avg loss: 1.906563 \n",
            "\n",
            "Epoch 3\n",
            "-------------------------------\n",
            "loss: 1.943766 [   64/60000]\n",
            "loss: 1.811017 [ 6464/60000]\n",
            "loss: 1.898422 [12864/60000]\n",
            "loss: 1.789540 [19264/60000]\n",
            "loss: 1.716891 [25664/60000]\n",
            "loss: 1.746746 [32064/60000]\n",
            "loss: 1.611481 [38464/60000]\n",
            "loss: 1.586221 [44864/60000]\n",
            "loss: 1.502552 [51264/60000]\n",
            "loss: 1.604394 [57664/60000]\n",
            "Test Error: \n",
            " Accuracy: 62.4%, Avg loss: 1.534272 \n",
            "\n",
            "Epoch 4\n",
            "-------------------------------\n",
            "loss: 1.555802 [   64/60000]\n",
            "loss: 1.428259 [ 6464/60000]\n",
            "loss: 1.462919 [12864/60000]\n",
            "loss: 1.415688 [19264/60000]\n",
            "loss: 1.316172 [25664/60000]\n",
            "loss: 1.395799 [32064/60000]\n",
            "loss: 1.286668 [38464/60000]\n",
            "loss: 1.293605 [44864/60000]\n",
            "loss: 1.383162 [51264/60000]\n",
            "loss: 1.379279 [57664/60000]\n",
            "Test Error: \n",
            " Accuracy: 64.2%, Avg loss: 1.256624 \n",
            "\n",
            "Epoch 5\n",
            "-------------------------------\n",
            "loss: 1.126925 [   64/60000]\n",
            "loss: 1.157179 [ 6464/60000]\n",
            "loss: 1.222547 [12864/60000]\n",
            "loss: 1.168885 [19264/60000]\n",
            "loss: 1.083050 [25664/60000]\n",
            "loss: 1.044839 [32064/60000]\n",
            "loss: 1.086596 [38464/60000]\n",
            "loss: 1.095771 [44864/60000]\n",
            "loss: 1.124550 [51264/60000]\n",
            "loss: 1.046039 [57664/60000]\n",
            "Test Error: \n",
            " Accuracy: 64.7%, Avg loss: 1.082461 \n",
            "\n",
            "Epoch 6\n",
            "-------------------------------\n",
            "loss: 1.124516 [   64/60000]\n",
            "loss: 0.956848 [ 6464/60000]\n",
            "loss: 0.852693 [12864/60000]\n",
            "loss: 0.995656 [19264/60000]\n",
            "loss: 0.982570 [25664/60000]\n",
            "loss: 0.979813 [32064/60000]\n",
            "loss: 0.946024 [38464/60000]\n",
            "loss: 0.992055 [44864/60000]\n",
            "loss: 1.095122 [51264/60000]\n",
            "loss: 1.050985 [57664/60000]\n",
            "Test Error: \n",
            " Accuracy: 65.8%, Avg loss: 0.973495 \n",
            "\n",
            "Epoch 7\n",
            "-------------------------------\n",
            "loss: 0.920396 [   64/60000]\n",
            "loss: 0.869452 [ 6464/60000]\n",
            "loss: 0.944357 [12864/60000]\n",
            "loss: 0.979902 [19264/60000]\n",
            "loss: 0.985014 [25664/60000]\n",
            "loss: 0.943977 [32064/60000]\n",
            "loss: 0.819186 [38464/60000]\n",
            "loss: 0.819544 [44864/60000]\n",
            "loss: 0.723960 [51264/60000]\n",
            "loss: 0.926306 [57664/60000]\n",
            "Test Error: \n",
            " Accuracy: 67.3%, Avg loss: 0.900505 \n",
            "\n",
            "Epoch 8\n",
            "-------------------------------\n",
            "loss: 0.827546 [   64/60000]\n",
            "loss: 1.018282 [ 6464/60000]\n",
            "loss: 0.921012 [12864/60000]\n",
            "loss: 0.877250 [19264/60000]\n",
            "loss: 0.748922 [25664/60000]\n",
            "loss: 1.033941 [32064/60000]\n",
            "loss: 0.974444 [38464/60000]\n",
            "loss: 0.864662 [44864/60000]\n",
            "loss: 0.765016 [51264/60000]\n",
            "loss: 0.813777 [57664/60000]\n",
            "Test Error: \n",
            " Accuracy: 68.6%, Avg loss: 0.850150 \n",
            "\n",
            "Epoch 9\n",
            "-------------------------------\n",
            "loss: 0.936049 [   64/60000]\n",
            "loss: 0.763554 [ 6464/60000]\n",
            "loss: 0.861357 [12864/60000]\n",
            "loss: 0.774083 [19264/60000]\n",
            "loss: 0.688333 [25664/60000]\n",
            "loss: 0.945177 [32064/60000]\n",
            "loss: 0.821593 [38464/60000]\n",
            "loss: 0.709840 [44864/60000]\n",
            "loss: 0.934734 [51264/60000]\n",
            "loss: 0.838422 [57664/60000]\n",
            "Test Error: \n",
            " Accuracy: 69.9%, Avg loss: 0.809716 \n",
            "\n",
            "Epoch 10\n",
            "-------------------------------\n",
            "loss: 0.900116 [   64/60000]\n",
            "loss: 0.682211 [ 6464/60000]\n",
            "loss: 0.791763 [12864/60000]\n",
            "loss: 0.783212 [19264/60000]\n",
            "loss: 0.867995 [25664/60000]\n",
            "loss: 0.679849 [32064/60000]\n",
            "loss: 0.838615 [38464/60000]\n",
            "loss: 0.715949 [44864/60000]\n",
            "loss: 0.782505 [51264/60000]\n",
            "loss: 0.750024 [57664/60000]\n",
            "Test Error: \n",
            " Accuracy: 70.8%, Avg loss: 0.780437 \n",
            "\n",
            "Done!\n"
          ]
        }
      ]
    }
  ]
}